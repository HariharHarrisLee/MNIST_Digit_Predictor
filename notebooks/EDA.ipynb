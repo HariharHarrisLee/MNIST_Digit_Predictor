{
 "cells": [
  {
   "cell_type": "markdown",
   "metadata": {},
   "source": [
    "# MNIST Dataset - Exploratory Data Analysis\n",
    "\n",
    "This notebook provides detailed exploratory data analysis of the MNIST handwritten digit dataset."
   ]
  },
  {
   "cell_type": "code",
   "execution_count": null,
   "metadata": {},
   "outputs": [],
   "source": [
    "import tensorflow as tf\n",
    "from tensorflow.keras.datasets import mnist\n",
    "import numpy as np\n",
    "import matplotlib.pyplot as plt\n",
    "import seaborn as sns\n",
    "import pandas as pd\n",
    "\n",
    "# Set style\n",
    "plt.style.use('seaborn-v0_8')\n",
    "sns.set_palette('husl')"
   ]
  },
  {
   "cell_type": "markdown",
   "metadata": {},
   "source": [
    "## Load the Dataset"
   ]
  },
  {
   "cell_type": "code",
   "execution_count": null,
   "metadata": {},
   "outputs": [],
   "source": [
    "# Load MNIST data\n",
    "(x_train, y_train), (x_test, y_test) = mnist.load_data()\n",
    "\n",
    "print(f\"Training set shape: {x_train.shape}\")\n",
    "print(f\"Training labels shape: {y_train.shape}\")\n",
    "print(f\"Test set shape: {x_test.shape}\")\n",
    "print(f\"Test labels shape: {y_test.shape}\")"
   ]
  },
  {
   "cell_type": "markdown",
   "metadata": {},
   "source": [
    "## Basic Statistics"
   ]
  },
  {
   "cell_type": "code",
   "execution_count": null,
   "metadata": {},
   "outputs": [],
   "source": [
    "# Dataset statistics\n",
    "print(\"Dataset Statistics:\")\n",
    "print(f\"Total training samples: {len(x_train):,}\")\n",
    "print(f\"Total test samples: {len(x_test):,}\")\n",
    "print(f\"Image shape: {x_train[0].shape}\")\n",
    "print(f\"Number of classes: {len(np.unique(y_train))}\")\n",
    "print(f\"Classes: {np.unique(y_train)}\")\n",
    "print(f\"Pixel value range: [{x_train.min()}, {x_train.max()}]\")"
   ]
  },
  {
   "cell_type": "markdown",
   "metadata": {},
   "source": [
    "## Class Distribution"
   ]
  },
  {
   "cell_type": "code",
   "execution_count": null,
   "metadata": {},
   "outputs": [],
   "source": [
    "# Class distribution\n",
    "fig, (ax1, ax2) = plt.subplots(1, 2, figsize=(15, 5))\n",
    "\n",
    "# Training set distribution\n",
    "unique_train, counts_train = np.unique(y_train, return_counts=True)\n",
    "ax1.bar(unique_train, counts_train, alpha=0.7, color='skyblue')\n",
    "ax1.set_title('Training Set - Class Distribution')\n",
    "ax1.set_xlabel('Digit')\n",
    "ax1.set_ylabel('Count')\n",
    "ax1.grid(True, alpha=0.3)\n",
    "\n",
    "# Test set distribution\n",
    "unique_test, counts_test = np.unique(y_test, return_counts=True)\n",
    "ax2.bar(unique_test, counts_test, alpha=0.7, color='lightcoral')\n",
    "ax2.set_title('Test Set - Class Distribution')\n",
    "ax2.set_xlabel('Digit')\n",
    "ax2.set_ylabel('Count')\n",
    "ax2.grid(True, alpha=0.3)\n",
    "\n",
    "plt.tight_layout()\n",
    "plt.show()"
   ]
  },
  {
   "cell_type": "markdown",
   "metadata": {},
   "source": [
    "## Sample Images"
   ]
  },
  {
   "cell_type": "code",
   "execution_count": null,
   "metadata": {},
   "outputs": [],
   "source": [
    "# Display sample images for each digit\n",
    "fig, axes = plt.subplots(2, 10, figsize=(20, 6))\n",
    "fig.suptitle('Sample Images from Each Class', fontsize=16)\n",
    "\n",
    "for digit in range(10):\n",
    "    # Find indices for current digit\n",
    "    digit_indices = np.where(y_train == digit)[0]\n",
    "    \n",
    "    # Show first occurrence\n",
    "    axes[0, digit].imshow(x_train[digit_indices[0]], cmap='gray')\n",
    "    axes[0, digit].set_title(f'Digit: {digit}')\n",
    "    axes[0, digit].axis('off')\n",
    "    \n",
    "    # Show second occurrence\n",
    "    axes[1, digit].imshow(x_train[digit_indices[1]], cmap='gray')\n",
    "    axes[1, digit].axis('off')\n",
    "\n",
    "plt.tight_layout()\n",
    "plt.show()"
   ]
  },
  {
   "cell_type": "markdown",
   "metadata": {},
   "source": [
    "## Pixel Intensity Analysis"
   ]
  },
  {
   "cell_type": "code",
   "execution_count": null,
   "metadata": {},
   "outputs": [],
   "source": [
    "# Pixel intensity statistics\n",
    "fig, axes = plt.subplots(2, 2, figsize=(12, 10))\n",
    "\n",
    "# Overall pixel distribution\n",
    "axes[0, 0].hist(x_train.flatten(), bins=50, alpha=0.7, color='blue')\n",
    "axes[0, 0].set_title('Pixel Intensity Distribution (Training Set)')\n",
    "axes[0, 0].set_xlabel('Pixel Value')\n",
    "axes[0, 0].set_ylabel('Frequency')\n",
    "\n",
    "# Mean pixel intensity by class\n",
    "class_means = []\n",
    "for digit in range(10):\n",
    "    digit_images = x_train[y_train == digit]\n",
    "    class_means.append(digit_images.mean())\n",
    "\n",
    "axes[0, 1].bar(range(10), class_means, alpha=0.7, color='green')\n",
    "axes[0, 1].set_title('Mean Pixel Intensity by Class')\n",
    "axes[0, 1].set_xlabel('Digit')\n",
    "axes[0, 1].set_ylabel('Mean Pixel Value')\n",
    "\n",
    "# Sample image with pixel values\n",
    "sample_img = x_train[0]\n",
    "im = axes[1, 0].imshow(sample_img, cmap='gray')\n",
    "axes[1, 0].set_title(f'Sample Image (Label: {y_train[0]})')\n",
    "plt.colorbar(im, ax=axes[1, 0])\n",
    "\n",
    "# Normalized version\n",
    "normalized_img = sample_img / 255.0\n",
    "im2 = axes[1, 1].imshow(normalized_img, cmap='gray')\n",
    "axes[1, 1].set_title('Normalized Version')\n",
    "plt.colorbar(im2, ax=axes[1, 1])\n",
    "\n",
    "plt.tight_layout()\n",
    "plt.show()"
   ]
  },
  {
   "cell_type": "markdown",
   "metadata": {},
   "source": [
    "## Summary\n",
    "\n",
    "This EDA reveals:\n",
    "1. MNIST contains 60,000 training and 10,000 test images\n",
    "2. Images are 28x28 pixels in grayscale\n",
    "3. Classes are relatively balanced\n",
    "4. Pixel values range from 0-255\n",
    "5. Most pixels are black (0) with white digits"
   ]
  }
 ],
 "metadata": {
  "kernelspec": {
   "display_name": "Python 3",
   "language": "python",
   "name": "python3"
  },
  "language_info": {
   "codemirror_mode": {
    "name": "ipython",
    "version": 3
   },
   "file_extension": ".py",
   "name": "python",
   "nbconvert_exporter": "python",
   "pygments_lexer": "ipython3",
   "version": "3.9.0"
  }
 },
 "nbformat": 4,
 "nbformat_minor": 4
}